{
  "nbformat": 4,
  "nbformat_minor": 0,
  "metadata": {
    "colab": {
      "provenance": [],
      "authorship_tag": "ABX9TyPqGT8B8XsVFSYCpDZy+0Pn",
      "include_colab_link": true
    },
    "kernelspec": {
      "name": "python3",
      "display_name": "Python 3"
    },
    "language_info": {
      "name": "python"
    }
  },
  "cells": [
    {
      "cell_type": "markdown",
      "metadata": {
        "id": "view-in-github",
        "colab_type": "text"
      },
      "source": [
        "<a href=\"https://colab.research.google.com/github/Vishveshwar08188/LSTM_Llmon-Network_GRU/blob/main/LSTM_Llmon_Network_GRU.ipynb\" target=\"_parent\"><img src=\"https://colab.research.google.com/assets/colab-badge.svg\" alt=\"Open In Colab\"/></a>"
      ]
    },
    {
      "cell_type": "markdown",
      "source": [
        "### LSTM"
      ],
      "metadata": {
        "id": "eDbUBbi9kF9o"
      }
    },
    {
      "cell_type": "code",
      "source": [
        "import torch\n",
        "import torch.nn as nn\n",
        "import torch.optim as optim\n",
        "import numpy as np\n",
        "import pandas as pd\n",
        "import matplotlib.pyplot as plt\n",
        "from sklearn.model_selection import train_test_split\n",
        "from torch.utils.data import Dataset, DataLoader"
      ],
      "metadata": {
        "id": "gDEaCYVeiaAS"
      },
      "execution_count": null,
      "outputs": []
    },
    {
      "cell_type": "code",
      "source": [
        "df = pd.read_csv(\"/parentheses_dataset_limited (1).csv\")"
      ],
      "metadata": {
        "id": "2Ub5ljDaic08"
      },
      "execution_count": null,
      "outputs": []
    },
    {
      "cell_type": "code",
      "source": [
        "all_chars = sorted(set(\"\".join(df[\"Sample\"])))\n",
        "char_to_idx = {char: i for i, char in enumerate(all_chars)}\n",
        "idx_to_char = {i: char for char, i in char_to_idx.items()}"
      ],
      "metadata": {
        "id": "ZZrkUHLIifoi"
      },
      "execution_count": null,
      "outputs": []
    },
    {
      "cell_type": "code",
      "source": [
        "max_seq_length = df[\"Sample\"].apply(len).max()\n",
        "max_seq_length"
      ],
      "metadata": {
        "colab": {
          "base_uri": "https://localhost:8080/"
        },
        "id": "FvvKBDGEiiCV",
        "outputId": "e0d2e287-1d66-49e5-e0f7-fb8a99e21ff0"
      },
      "execution_count": null,
      "outputs": [
        {
          "output_type": "execute_result",
          "data": {
            "text/plain": [
              "20"
            ]
          },
          "metadata": {},
          "execution_count": 12
        }
      ]
    },
    {
      "cell_type": "code",
      "source": [
        "def encode_sequence(seq):\n",
        "    encoded = [char_to_idx[char] for char in seq]\n",
        "    padded = encoded + [0] * (max_seq_length - len(encoded))\n",
        "    return np.array(padded)\n",
        "\n",
        "df[\"Encoded_Sequence\"] = df[\"Sample\"].apply(encode_sequence)"
      ],
      "metadata": {
        "id": "pL2yONynilZ4"
      },
      "execution_count": null,
      "outputs": []
    },
    {
      "cell_type": "code",
      "source": [
        "X = np.vstack(df[\"Encoded_Sequence\"].values)\n",
        "y = df[\"Count\"].values.astype(np.float32)\n",
        "\n",
        "X_train, X_test, y_train, y_test = train_test_split(X, y, test_size=0.2, random_state=42)"
      ],
      "metadata": {
        "id": "ZT-C8pw0ioRo"
      },
      "execution_count": null,
      "outputs": []
    },
    {
      "cell_type": "code",
      "source": [
        "X_train_tensor = torch.tensor(X_train, dtype=torch.long)\n",
        "y_train_tensor = torch.tensor(y_train, dtype=torch.float32).view(-1, 1)\n",
        "X_test_tensor = torch.tensor(X_test, dtype=torch.long)\n",
        "y_test_tensor = torch.tensor(y_test, dtype=torch.float32).view(-1, 1)"
      ],
      "metadata": {
        "id": "Q-lfpPpijUZh"
      },
      "execution_count": null,
      "outputs": []
    },
    {
      "cell_type": "code",
      "source": [
        "class BracketDataset(Dataset):\n",
        "    def __init__(self, X, y):\n",
        "        self.X = X\n",
        "        self.y = y\n",
        "\n",
        "    def __len__(self):\n",
        "        return len(self.X)\n",
        "\n",
        "    def __getitem__(self, idx):\n",
        "        return self.X[idx], self.y[idx]"
      ],
      "metadata": {
        "id": "MhOWWCeTjW9e"
      },
      "execution_count": null,
      "outputs": []
    },
    {
      "cell_type": "code",
      "source": [
        "batch_size = 32\n",
        "train_loader = DataLoader(BracketDataset(X_train_tensor, y_train_tensor), batch_size=batch_size, shuffle=True)\n",
        "test_loader = DataLoader(BracketDataset(X_test_tensor, y_test_tensor), batch_size=batch_size, shuffle=False)"
      ],
      "metadata": {
        "id": "5EjL7KDTjZ3i"
      },
      "execution_count": null,
      "outputs": []
    },
    {
      "cell_type": "code",
      "source": [
        "class CustomLSTM(nn.Module):\n",
        "    def __init__(self, input_size, hidden_size, output_size):\n",
        "        super(CustomLSTM, self).__init__()\n",
        "        self.hidden_size = hidden_size\n",
        "        self.Wf = nn.Linear(input_size + hidden_size, hidden_size)\n",
        "        self.Wi = nn.Linear(input_size + hidden_size, hidden_size)\n",
        "        self.Wo = nn.Linear(input_size + hidden_size, hidden_size)\n",
        "        self.Wc = nn.Linear(input_size + hidden_size, hidden_size)\n",
        "        self.fc = nn.Linear(hidden_size, output_size)\n",
        "\n",
        "    def forward(self, x):\n",
        "        h_t = torch.zeros(x.size(0), self.hidden_size).to(x.device)\n",
        "        c_t = torch.zeros(x.size(0), self.hidden_size).to(x.device)\n",
        "\n",
        "        for t in range(x.size(1)):\n",
        "            x_t = x[:, t].float().unsqueeze(1)  # Extract character embedding\n",
        "            combined = torch.cat((x_t, h_t), dim=1)\n",
        "            f_t = torch.sigmoid(self.Wf(combined))\n",
        "            i_t = torch.sigmoid(self.Wi(combined))\n",
        "            o_t = torch.sigmoid(self.Wo(combined))\n",
        "            c_tilde = torch.tanh(self.Wc(combined))\n",
        "            c_t = f_t * c_t + i_t * c_tilde\n",
        "            h_t = o_t * torch.tanh(c_t)\n",
        "\n",
        "        return self.fc(h_t)"
      ],
      "metadata": {
        "id": "oi0to9vnjc4v"
      },
      "execution_count": null,
      "outputs": []
    },
    {
      "cell_type": "code",
      "source": [
        "def train_model(model, train_loader, test_loader, num_epochs=10, lr=0.01):\n",
        "    criterion = nn.MSELoss()\n",
        "    optimizer = optim.Adam(model.parameters(), lr=lr)\n",
        "    train_losses, test_losses = [], []\n",
        "\n",
        "    for epoch in range(num_epochs):\n",
        "        model.train()\n",
        "        epoch_loss = 0\n",
        "        for X_batch, y_batch in train_loader:\n",
        "            X_batch, y_batch = X_batch.to(torch.device('cpu')), y_batch.to(torch.device('cpu'))\n",
        "            optimizer.zero_grad()\n",
        "            output = model(X_batch)\n",
        "            loss = criterion(output, y_batch)\n",
        "            loss.backward()\n",
        "            optimizer.step()\n",
        "            epoch_loss += loss.item()\n",
        "\n",
        "        train_losses.append(epoch_loss / len(train_loader))\n",
        "\n",
        "        model.eval()\n",
        "        with torch.no_grad():\n",
        "            test_loss = sum(criterion(model(X), y).item() for X, y in test_loader) / len(test_loader)\n",
        "            test_losses.append(test_loss)\n",
        "\n",
        "        print(f\"Epoch {epoch+1}/{num_epochs}, Train Loss: {train_losses[-1]:.4f}, Test Loss: {test_losses[-1]:.4f}\")\n",
        "\n",
        "    return train_losses, test_losses"
      ],
      "metadata": {
        "id": "vPhigTIajd2p"
      },
      "execution_count": null,
      "outputs": []
    },
    {
      "cell_type": "code",
      "source": [
        "class BaselineModel(nn.Module):\n",
        "    def __init__(self):\n",
        "        super(BaselineModel, self).__init__()\n",
        "        # Add a learnable parameter\n",
        "        self.bias = nn.Parameter(torch.ones(1))\n",
        "\n",
        "    def forward(self, x):\n",
        "        # Use the learnable parameter\n",
        "        return self.bias.repeat(x.size(0), 1)  # Predicts a learnable constant value"
      ],
      "metadata": {
        "id": "APeF1ocpjg5W"
      },
      "execution_count": null,
      "outputs": []
    },
    {
      "cell_type": "code",
      "source": [
        "lstm_model = CustomLSTM(input_size=1, hidden_size=64, output_size=1)\n",
        "baseline_model = BaselineModel()"
      ],
      "metadata": {
        "id": "1a7wiIRnjjAQ"
      },
      "execution_count": null,
      "outputs": []
    },
    {
      "cell_type": "code",
      "source": [
        "lstm_train_loss, lstm_test_loss = train_model(lstm_model, train_loader, test_loader, num_epochs=30)"
      ],
      "metadata": {
        "colab": {
          "base_uri": "https://localhost:8080/"
        },
        "id": "oEEX8OQsjlF_",
        "outputId": "9dfc1d15-1409-4d80-e587-afec1dfec88f"
      },
      "execution_count": null,
      "outputs": [
        {
          "output_type": "stream",
          "name": "stdout",
          "text": [
            "Epoch 1/30, Train Loss: 0.3529, Test Loss: 0.3032\n",
            "Epoch 2/30, Train Loss: 0.2790, Test Loss: 0.2607\n",
            "Epoch 3/30, Train Loss: 0.2489, Test Loss: 0.2508\n",
            "Epoch 4/30, Train Loss: 0.2271, Test Loss: 0.2145\n",
            "Epoch 5/30, Train Loss: 0.1934, Test Loss: 0.1829\n",
            "Epoch 6/30, Train Loss: 0.1876, Test Loss: 0.1784\n",
            "Epoch 7/30, Train Loss: 0.1640, Test Loss: 0.1651\n",
            "Epoch 8/30, Train Loss: 0.1461, Test Loss: 0.1490\n",
            "Epoch 9/30, Train Loss: 0.1392, Test Loss: 0.1292\n",
            "Epoch 10/30, Train Loss: 0.1369, Test Loss: 0.1366\n",
            "Epoch 11/30, Train Loss: 0.1173, Test Loss: 0.1305\n",
            "Epoch 12/30, Train Loss: 0.1080, Test Loss: 0.1096\n",
            "Epoch 13/30, Train Loss: 0.1034, Test Loss: 0.1150\n",
            "Epoch 14/30, Train Loss: 0.0967, Test Loss: 0.1070\n",
            "Epoch 15/30, Train Loss: 0.0933, Test Loss: 0.0986\n",
            "Epoch 16/30, Train Loss: 0.0791, Test Loss: 0.0954\n",
            "Epoch 17/30, Train Loss: 0.0788, Test Loss: 0.0897\n",
            "Epoch 18/30, Train Loss: 0.0699, Test Loss: 0.1170\n",
            "Epoch 19/30, Train Loss: 0.0718, Test Loss: 0.0933\n",
            "Epoch 20/30, Train Loss: 0.0690, Test Loss: 0.0952\n",
            "Epoch 21/30, Train Loss: 0.0692, Test Loss: 0.0892\n",
            "Epoch 22/30, Train Loss: 0.0575, Test Loss: 0.0723\n",
            "Epoch 23/30, Train Loss: 0.0706, Test Loss: 0.0805\n",
            "Epoch 24/30, Train Loss: 0.0609, Test Loss: 0.0762\n",
            "Epoch 25/30, Train Loss: 0.0636, Test Loss: 0.1108\n",
            "Epoch 26/30, Train Loss: 0.0607, Test Loss: 0.0840\n",
            "Epoch 27/30, Train Loss: 0.0509, Test Loss: 0.0781\n",
            "Epoch 28/30, Train Loss: 0.0541, Test Loss: 0.0919\n",
            "Epoch 29/30, Train Loss: 0.0499, Test Loss: 0.0890\n",
            "Epoch 30/30, Train Loss: 0.0528, Test Loss: 0.0824\n"
          ]
        }
      ]
    },
    {
      "cell_type": "code",
      "source": [
        "with torch.no_grad():\n",
        "    baseline_predictions = torch.ones_like(y_test_tensor)\n",
        "    baseline_loss = nn.MSELoss()(baseline_predictions, y_test_tensor).item()\n",
        "    print(f'Baseline Model Test Loss: {baseline_loss:.4f}')"
      ],
      "metadata": {
        "colab": {
          "base_uri": "https://localhost:8080/"
        },
        "id": "VCXRlYLyjnEM",
        "outputId": "32f2ef9b-772b-4f93-9c50-57f579610bde"
      },
      "execution_count": null,
      "outputs": [
        {
          "output_type": "stream",
          "name": "stdout",
          "text": [
            "Baseline Model Test Loss: 0.4731\n"
          ]
        }
      ]
    },
    {
      "cell_type": "code",
      "source": [
        "plt.plot(lstm_train_loss, label='LSTM Train')\n",
        "plt.plot(lstm_test_loss, label='LSTM Test')\n",
        "plt.axhline(y=baseline_loss, color='r', linestyle='--', label='Baseline Test Loss')\n",
        "plt.xlabel('Epochs')\n",
        "plt.ylabel('Loss')\n",
        "plt.legend()\n",
        "plt.title('Learning Curves')\n",
        "plt.show()"
      ],
      "metadata": {
        "colab": {
          "base_uri": "https://localhost:8080/",
          "height": 472
        },
        "id": "t4LNL__Ojpqf",
        "outputId": "1e437912-b555-4cfa-d187-9de79ed31ee8"
      },
      "execution_count": null,
      "outputs": [
        {
          "output_type": "display_data",
          "data": {
            "text/plain": [
              "<Figure size 640x480 with 1 Axes>"
            ],
            "image/png": "[encoded data removed]"
          },
          "metadata": {}
        }
      ]
    },
    {
      "cell_type": "code",
      "source": [
        "def sample_preds(model, X_test_tensor, y_test_tensor, num_samples=5):\n",
        "    model.eval()\n",
        "    with torch.no_grad():\n",
        "        sample_indices = torch.randint(0, len(X_test_tensor), (num_samples,))\n",
        "        sample_inputs = X_test_tensor[sample_indices]\n",
        "        sample_targets = y_test_tensor[sample_indices]\n",
        "        predictions = torch.round(model(sample_inputs))\n",
        "\n",
        "        print(\"Sample Predictions:\")\n",
        "        for i in range(num_samples):\n",
        "            print(f\"Input: {sample_inputs[i]}\")\n",
        "            print(f\"True Count: {sample_targets[i].item():.2f}, Predicted: {predictions[i].item():.2f}\")\n",
        "\n",
        "sample_preds(lstm_model, X_test_tensor, y_test_tensor)"
      ],
      "metadata": {
        "colab": {
          "base_uri": "https://localhost:8080/"
        },
        "id": "uwo3tyW0jsS7",
        "outputId": "a53a90bd-c4c6-44e1-9a93-2c103dc4cf70"
      },
      "execution_count": null,
      "outputs": [
        {
          "output_type": "stream",
          "name": "stdout",
          "text": [
            "Sample Predictions:\n",
            "Input: tensor([72, 60, 66, 34, 68, 62, 79, 56, 68, 79,  0,  0,  0,  0,  0,  0,  0,  0,\n",
            "         0,  0])\n",
            "True Count: 0.00, Predicted: -0.00\n",
            "Input: tensor([ 1, 65, 71, 74, 60, 79,  7, 71, 64, 73,  7,  0,  0,  0,  0,  0,  0,  0,\n",
            "         0,  0])\n",
            "True Count: 0.00, Predicted: 0.00\n",
            "Input: tensor([68, 73, 75, 80, 79,  7,  8, 13, 78, 75, 71, 68, 79,  7,  6,  1,  6,  8,\n",
            "         0,  0])\n",
            "True Count: 2.00, Predicted: 2.00\n",
            "Input: tensor([13, 13, 13, 13, 13, 13,  1, 71, 64, 73,  7, 74, 75, 79,  0,  0,  0,  0,\n",
            "         0,  0])\n",
            "True Count: 0.00, Predicted: -0.00\n",
            "Input: tensor([71, 68, 79,  7,  8,  8,  8,  0, 13, 13, 13, 13, 13, 13, 13, 13,  0,  0,\n",
            "         0,  0])\n",
            "True Count: 1.00, Predicted: 1.00\n"
          ]
        }
      ]
    },
    {
      "cell_type": "markdown",
      "source": [
        "# Elmon network"
      ],
      "metadata": {
        "id": "d2DWZFSfkXzZ"
      }
    },
    {
      "cell_type": "code",
      "source": [
        "import torch\n",
        "import torch.nn as nn\n",
        "import torch.optim as optim\n",
        "import pandas as pd\n",
        "import numpy as np\n",
        "import matplotlib.pyplot as plt\n",
        "from torch.utils.data import Dataset, DataLoader\n",
        "from torch.nn.utils.rnn import pad_sequence # Import pad_sequence\n",
        "\n",
        "\n",
        "class ParenthesesDataset(Dataset):\n",
        "    def __init__(self, csv_file):\n",
        "        self.data = pd.read_csv(csv_file)\n",
        "        self.sequences = self.data['Sample'].values\n",
        "        self.labels = self.data['Count'].values.astype(np.float32)\n",
        "        self.char_to_index = {char: idx for idx, char in enumerate(sorted(set(''.join(self.sequences))))}\n",
        "\n",
        "    def __len__(self):\n",
        "        return len(self.sequences)\n",
        "\n",
        "    def __getitem__(self, idx):\n",
        "        sequence = self.sequences[idx]\n",
        "        label = self.labels[idx]\n",
        "        encoded_seq = self.encode_sequence(sequence)\n",
        "        return torch.tensor(encoded_seq, dtype=torch.float32), torch.tensor(label, dtype=torch.float32)\n",
        "\n",
        "    def encode_sequence(self, sequence):\n",
        "        encoded = np.zeros((len(sequence), len(self.char_to_index)))\n",
        "        for i, char in enumerate(sequence):\n",
        "            if char in self.char_to_index:\n",
        "                encoded[i, self.char_to_index[char]] = 1\n",
        "        return encoded\n",
        "\n",
        "class ElmonNetwork(nn.Module):\n",
        "    def __init__(self, input_size, hidden_size, output_size):\n",
        "        super(ElmonNetwork, self).__init__()\n",
        "        self.hidden_size = hidden_size\n",
        "        self.rnn_cell = nn.RNNCell(input_size, hidden_size)  # Basic RNN cell\n",
        "        self.fc = nn.Linear(hidden_size, output_size)  # Output layer\n",
        "\n",
        "    def forward(self, x):\n",
        "        # batch_size, seq_len, _ = x.size()\n",
        "        batch_size = x.size(0) # get batch size from the first dimension\n",
        "        seq_len = x.size(1)\n",
        "        h_t = torch.zeros(batch_size, self.hidden_size).to(x.device)  # Initial hidden state\n",
        "\n",
        "        for t in range(seq_len):\n",
        "            h_t = self.rnn_cell(x[:, t, :], h_t)  # Update hidden state\n",
        "\n",
        "        output = self.fc(h_t)  # Compute final output\n",
        "        return output\n",
        "\n",
        "# Load dataset\n",
        "dataset = ParenthesesDataset('/parentheses_dataset_limited (1).csv')\n",
        "\n",
        "def collate_fn(batch):\n",
        "    sequences, labels = zip(*batch)\n",
        "    # Pad the sequences\n",
        "    padded_sequences = pad_sequence(sequences, batch_first=True, padding_value=0)\n",
        "    # Stack the labels\n",
        "    labels = torch.stack(labels)\n",
        "    return padded_sequences, labels\n",
        "\n",
        "train_loader = DataLoader(dataset, batch_size=32, shuffle=True, collate_fn=collate_fn) # Use collate_fn in DataLoader\n",
        "\n",
        "# Example of defining the model\n",
        "input_size = len(dataset.char_to_index)  # One-hot encoding size\n",
        "hidden_size = 64\n",
        "output_size = 1  # Regression output (count of balanced pairs)\n",
        "\n",
        "model = ElmonNetwork(input_size, hidden_size, output_size)\n",
        "\n",
        "# Training function\n",
        "def train_model(model, train_loader, criterion, optimizer, num_epochs=10):\n",
        "    model.train()\n",
        "    losses = []\n",
        "    accuracies = []\n",
        "    for epoch in range(num_epochs):\n",
        "        total_loss = 0\n",
        "        correct = 0\n",
        "        total = 0\n",
        "        for inputs, targets in train_loader:\n",
        "            inputs, targets = inputs.to(device), targets.to(device)\n",
        "            optimizer.zero_grad()\n",
        "            outputs = model(inputs).squeeze()\n",
        "            loss = criterion(outputs, targets.float())\n",
        "            loss.backward()\n",
        "            optimizer.step()\n",
        "            total_loss += loss.item()\n",
        "\n",
        "            # Compute accuracy (rounded to nearest integer)\n",
        "            correct += (torch.round(outputs) == targets).sum().item()\n",
        "            total += targets.size(0)\n",
        "        accuracy = correct / total\n",
        "        losses.append(total_loss / len(train_loader))\n",
        "        accuracies.append(accuracy)\n",
        "        print(f\"Epoch {epoch+1}/{num_epochs}, Loss: {total_loss/len(train_loader):.4f}, Accuracy: {accuracy:.4f}\")\n",
        "\n",
        "    plt.figure(figsize=(10, 5))\n",
        "    plt.subplot(1, 2, 1)\n",
        "    plt.plot(range(1, num_epochs+1), losses, marker='o', label='Loss')\n",
        "    plt.xlabel('Epochs')\n",
        "    plt.ylabel('Loss')\n",
        "    plt.title('Training Loss')\n",
        "    plt.legend()\n",
        "\n",
        "    plt.subplot(1, 2, 2)\n",
        "    plt.plot(range(1, num_epochs+1), accuracies, marker='o', label='Accuracy')\n",
        "    plt.xlabel('Epochs')\n",
        "    plt.ylabel('Accuracy')\n",
        "    plt.title('Training Accuracy')\n",
        "    plt.legend()\n",
        "\n",
        "    plt.show()\n",
        "\n",
        "# Define optimizer and loss function\n",
        "device = torch.device(\"cuda\" if torch.cuda.is_available() else \"cpu\")\n",
        "model.to(device)\n",
        "criterion = nn.MSELoss()\n",
        "optimizer = optim.Adam(model.parameters(), lr=0.001)\n",
        "\n",
        "# Train the model\n",
        "train_model(model, train_loader, criterion, optimizer, num_epochs=30)\n"
      ],
      "metadata": {
        "colab": {
          "base_uri": "https://localhost:8080/",
          "height": 1000
        },
        "id": "b7cZz0Qwjup3",
        "outputId": "2a872914-8cf4-4950-b1ff-b3bc7b7810de"
      },
      "execution_count": null,
      "outputs": [
        {
          "output_type": "stream",
          "name": "stdout",
          "text": [
            "Epoch 1/30, Loss: 0.3380, Accuracy: 0.6379\n",
            "Epoch 2/30, Loss: 0.1275, Accuracy: 0.8439\n",
            "Epoch 3/30, Loss: 0.0917, Accuracy: 0.8975\n",
            "Epoch 4/30, Loss: 0.0619, Accuracy: 0.9499\n",
            "Epoch 5/30, Loss: 0.0502, Accuracy: 0.9661\n",
            "Epoch 6/30, Loss: 0.0332, Accuracy: 0.9828\n",
            "Epoch 7/30, Loss: 0.0332, Accuracy: 0.9843\n",
            "Epoch 8/30, Loss: 0.0277, Accuracy: 0.9870\n",
            "Epoch 9/30, Loss: 0.0226, Accuracy: 0.9884\n",
            "Epoch 10/30, Loss: 0.0257, Accuracy: 0.9869\n",
            "Epoch 11/30, Loss: 0.0245, Accuracy: 0.9875\n",
            "Epoch 12/30, Loss: 0.0172, Accuracy: 0.9930\n",
            "Epoch 13/30, Loss: 0.0199, Accuracy: 0.9906\n",
            "Epoch 14/30, Loss: 0.0178, Accuracy: 0.9920\n",
            "Epoch 15/30, Loss: 0.0196, Accuracy: 0.9899\n",
            "Epoch 16/30, Loss: 0.0159, Accuracy: 0.9920\n",
            "Epoch 17/30, Loss: 0.0174, Accuracy: 0.9940\n",
            "Epoch 18/30, Loss: 0.0194, Accuracy: 0.9901\n",
            "Epoch 19/30, Loss: 0.0130, Accuracy: 0.9933\n",
            "Epoch 20/30, Loss: 0.0138, Accuracy: 0.9937\n",
            "Epoch 21/30, Loss: 0.0127, Accuracy: 0.9939\n",
            "Epoch 22/30, Loss: 0.0158, Accuracy: 0.9916\n",
            "Epoch 23/30, Loss: 0.0134, Accuracy: 0.9937\n",
            "Epoch 24/30, Loss: 0.0115, Accuracy: 0.9954\n",
            "Epoch 25/30, Loss: 0.0130, Accuracy: 0.9957\n",
            "Epoch 26/30, Loss: 0.0112, Accuracy: 0.9961\n",
            "Epoch 27/30, Loss: 0.0123, Accuracy: 0.9954\n",
            "Epoch 28/30, Loss: 0.0126, Accuracy: 0.9954\n",
            "Epoch 29/30, Loss: 0.0092, Accuracy: 0.9962\n",
            "Epoch 30/30, Loss: 0.0083, Accuracy: 0.9968\n"
          ]
        },
        {
          "output_type": "display_data",
          "data": {
            "text/plain": [
              "<Figure size 1000x500 with 2 Axes>"
            ],
            "image/png": "[encoded data removed]"
          },
          "metadata": {}
        }
      ]
    },
    {
      "cell_type": "code",
      "source": [
        "def evaluate_model(model, dataset, num_samples=5):\n",
        "    model.eval()\n",
        "    test_loader = DataLoader(dataset, batch_size=1, shuffle=True)\n",
        "    samples = []\n",
        "    with torch.no_grad():\n",
        "        for i, (inputs, targets) in enumerate(test_loader):\n",
        "            if i >= num_samples:\n",
        "                break\n",
        "            inputs, targets = inputs.to(device), targets.to(device)\n",
        "            outputs = model(inputs).squeeze()\n",
        "            samples.append((inputs.cpu().numpy(), targets.item(), outputs.item()))\n",
        "\n",
        "    print(\"\\nSample Test Results:\")\n",
        "    for i, (seq, target, pred) in enumerate(samples):\n",
        "        print(f\"Sample {i+1}: True Count = {target}, Predicted Count = {round(pred, 2)}\")\n",
        "\n",
        "# Evaluate on test sequences\n",
        "evaluate_model(model, dataset)\n"
      ],
      "metadata": {
        "colab": {
          "base_uri": "https://localhost:8080/"
        },
        "id": "2BX8y5Irj6EQ",
        "outputId": "9107fe44-5164-4d7f-9f91-83e7304ccf71"
      },
      "execution_count": null,
      "outputs": [
        {
          "output_type": "stream",
          "name": "stdout",
          "text": [
            "\n",
            "Sample Test Results:\n",
            "Sample 1: True Count = 1.0, Predicted Count = 1.31\n",
            "Sample 2: True Count = 0.0, Predicted Count = 0.01\n",
            "Sample 3: True Count = 0.0, Predicted Count = -0.01\n",
            "Sample 4: True Count = 2.0, Predicted Count = 2.07\n",
            "Sample 5: True Count = 0.0, Predicted Count = -0.01\n"
          ]
        }
      ]
    },
    {
      "cell_type": "markdown",
      "source": [
        "# GRU"
      ],
      "metadata": {
        "id": "8G9OJZTdlr4I"
      }
    },
    {
      "cell_type": "code",
      "source": [
        "import torch\n",
        "import torch.nn as nn\n",
        "import torch.optim as optim\n",
        "import pandas as pd\n",
        "import numpy as np\n",
        "from sklearn.model_selection import train_test_split\n",
        "from torch.utils.data import DataLoader, Dataset"
      ],
      "metadata": {
        "id": "rZH7VNM4lmPM"
      },
      "execution_count": null,
      "outputs": []
    },
    {
      "cell_type": "code",
      "source": [
        "# Load dataset\n",
        "import torch\n",
        "import torch.nn as nn\n",
        "import torch.optim as optim\n",
        "import pandas as pd\n",
        "import numpy as np\n",
        "from sklearn.model_selection import train_test_split\n",
        "from torch.utils.data import DataLoader, Dataset\n",
        "import matplotlib.pyplot as plt\n",
        "from sklearn.metrics import mean_absolute_error, mean_squared_error\n",
        "\n",
        "dataset_path = \"/parentheses_dataset_limited (1).csv\"  # Update with actual path if needed\n",
        "df = pd.read_csv(dataset_path)\n",
        "\n",
        "# Assume dataset has 'sequence' and 'count' columns\n",
        "sequences = df['Sample'].values # Changed 'sequence' to 'Sample'\n",
        "targets = df['Count'].values # Changed 'count' to 'Count'\n",
        "\n",
        "# Character-level encoding\n",
        "unique_chars = sorted(set(''.join(sequences)))\n",
        "char_to_idx = {char: idx + 1 for idx, char in enumerate(unique_chars)}  # Reserve 0 for padding\n",
        "\n",
        "# Convert sequences to numerical format\n",
        "def encode_sequence(seq, max_len):\n",
        "    encoded = [char_to_idx[char] for char in seq]\n",
        "    return encoded + [0] * (max_len - len(encoded))  # Padding\n",
        "\n",
        "max_seq_len = max(len(seq) for seq in sequences)\n",
        "numerical_data = [encode_sequence(seq, max_seq_len) for seq in sequences]\n",
        "\n",
        "# Convert to tensors\n",
        "X = torch.tensor(numerical_data, dtype=torch.long)\n",
        "y = torch.tensor(targets, dtype=torch.float32)\n",
        "\n",
        "# Split dataset\n",
        "X_train, X_test, y_train, y_test = train_test_split(X, y, test_size=0.2, random_state=42)\n",
        "\n",
        "# PyTorch Dataset class\n",
        "class ParenthesesDataset(Dataset):\n",
        "    def __init__(self, X, y):\n",
        "        self.X = X\n",
        "        self.y = y\n",
        "\n",
        "    def __len__(self):\n",
        "        return len(self.X)\n",
        "\n",
        "    def __getitem__(self, idx):\n",
        "        return self.X[idx], self.y[idx]\n",
        "\n",
        "# Dataloaders\n",
        "train_dataset = ParenthesesDataset(X_train, y_train)\n",
        "test_dataset = ParenthesesDataset(X_test, y_test)\n",
        "train_loader = DataLoader(train_dataset, batch_size=32, shuffle=True)\n",
        "test_loader = DataLoader(test_dataset, batch_size=32, shuffle=False)\n",
        "\n",
        "# Define GRU Model\n",
        "class GRUModel(nn.Module):\n",
        "    def __init__(self, vocab_size, embed_dim, hidden_dim, output_dim):\n",
        "        super(GRUModel, self).__init__()\n",
        "        self.embedding = nn.Embedding(vocab_size, embed_dim, padding_idx=0)\n",
        "        self.gru = nn.GRU(embed_dim, hidden_dim, batch_first=True)\n",
        "        self.fc = nn.Linear(hidden_dim, output_dim)\n",
        "\n",
        "    def forward(self, x):\n",
        "        x = self.embedding(x)\n",
        "        _, h_n = self.gru(x)\n",
        "        return self.fc(h_n.squeeze(0))\n",
        "\n",
        "# Model parameters\n",
        "vocab_size = len(unique_chars) + 1\n",
        "embed_dim = 16\n",
        "hidden_dim = 32\n",
        "output_dim = 1\n",
        "\n",
        "device = torch.device(\"cuda\" if torch.cuda.is_available() else \"cpu\")\n",
        "model = GRUModel(vocab_size, embed_dim, hidden_dim, output_dim).to(device)\n",
        "\n",
        "# Loss and Optimizer\n",
        "criterion = nn.MSELoss()\n",
        "optimizer = optim.Adam(model.parameters(), lr=0.001)\n",
        "\n",
        "# Training loop\n",
        "def train_model(model, train_loader, criterion, optimizer, epochs=10):\n",
        "    model.train()\n",
        "    losses = []\n",
        "    for epoch in range(epochs):\n",
        "        total_loss = 0\n",
        "        for X_batch, y_batch in train_loader:\n",
        "            X_batch, y_batch = X_batch.to(device), y_batch.to(device)\n",
        "            optimizer.zero_grad()\n",
        "            outputs = model(X_batch).squeeze()\n",
        "            loss = criterion(outputs, y_batch)\n",
        "            loss.backward()\n",
        "            optimizer.step()\n",
        "            total_loss += loss.item()\n",
        "        avg_loss = total_loss / len(train_loader)\n",
        "        losses.append(avg_loss)\n",
        "        print(f\"Epoch {epoch+1}/{epochs}, Loss: {avg_loss:.4f}\")\n",
        "\n",
        "    # Plot loss graph\n",
        "    plt.plot(range(1, epochs+1), losses, marker='o', linestyle='-')\n",
        "    plt.xlabel(\"Epoch\")\n",
        "    plt.ylabel(\"Loss\")\n",
        "    plt.title(\"Training Loss Curve\")\n",
        "    plt.show()\n",
        "\n",
        "# Train the model\n",
        "train_model(model, train_loader, criterion, optimizer, epochs=10)\n",
        "\n",
        "# Evaluation\n",
        "def evaluate_model(model, test_loader):\n",
        "    model.eval()\n",
        "    total_loss = 0\n",
        "    actuals, predictions = [], []\n",
        "    with torch.no_grad():\n",
        "        for X_batch, y_batch in test_loader:\n",
        "            X_batch, y_batch = X_batch.to(device), y_batch.to(device)\n",
        "            outputs = model(X_batch).squeeze()\n",
        "            loss = criterion(outputs, y_batch)\n",
        "            total_loss += loss.item()\n",
        "            actuals.extend(y_batch.cpu().numpy())\n",
        "            predictions.extend(outputs.cpu().numpy())\n",
        "\n",
        "    mae = mean_absolute_error(actuals, predictions)\n",
        "    rmse = mean_squared_error(actuals, predictions) # Removed squared=False\n",
        "    accuracy = np.mean(np.abs(np.array(actuals) - np.array(predictions)) <= 1) * 100\n",
        "\n",
        "    print(f\"Test Loss: {total_loss/len(test_loader):.4f}\")\n",
        "    print(f\"Mean Absolute Error (MAE): {mae:.4f}\")\n",
        "    print(f\"Root Mean Squared Error (RMSE): {rmse:.4f}\")\n",
        "    print(f\"Tolerance-Based Accuracy (±1): {accuracy:.2f}%\")\n",
        "\n",
        "# Evaluate the model\n",
        "evaluate_model(model, test_loader)"
      ],
      "metadata": {
        "colab": {
          "base_uri": "https://localhost:8080/",
          "height": 715
        },
        "id": "AOIwC7RIlnV-",
        "outputId": "7304e8c4-b1a0-4881-9b63-287d5628dcbf"
      },
      "execution_count": null,
      "outputs": [
        {
          "output_type": "stream",
          "name": "stdout",
          "text": [
            "Epoch 1/10, Loss: 0.4224\n",
            "Epoch 2/10, Loss: 0.1556\n",
            "Epoch 3/10, Loss: 0.1086\n",
            "Epoch 4/10, Loss: 0.0872\n",
            "Epoch 5/10, Loss: 0.0665\n",
            "Epoch 6/10, Loss: 0.0530\n",
            "Epoch 7/10, Loss: 0.0448\n",
            "Epoch 8/10, Loss: 0.0392\n",
            "Epoch 9/10, Loss: 0.0341\n",
            "Epoch 10/10, Loss: 0.0310\n"
          ]
        },
        {
          "output_type": "display_data",
          "data": {
            "text/plain": [
              "<Figure size 640x480 with 1 Axes>"
            ],
            "image/png": "[encoded data removed]"
          },
          "metadata": {}
        },
        {
          "output_type": "stream",
          "name": "stdout",
          "text": [
            "Test Loss: 0.0270\n",
            "Mean Absolute Error (MAE): 0.1164\n",
            "Root Mean Squared Error (RMSE): 0.0270\n",
            "Tolerance-Based Accuracy (±1): 100.00%\n"
          ]
        }
      ]
    }
  ]
}